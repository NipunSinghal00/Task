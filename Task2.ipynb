{
 "cells": [
  {
   "cell_type": "code",
   "execution_count": 9,
   "id": "8ed24551-eb3a-415e-9073-0d834c030ccf",
   "metadata": {},
   "outputs": [
    {
     "name": "stdin",
     "output_type": "stream",
     "text": [
      "Enter your first name : John\n",
      "Enter your last name : Doe\n"
     ]
    },
    {
     "name": "stdout",
     "output_type": "stream",
     "text": [
      "Hello ,  John Doe ! Welcome to the python program\n"
     ]
    }
   ],
   "source": [
    "Fname= input(\"Enter your first name :\")\n",
    "Lname =input(\"Enter your last name :\")\n",
    "print(\"Hello , \", Fname + \" \" + Lname , \"! Welcome to the python program\")"
   ]
  },
  {
   "cell_type": "code",
   "execution_count": null,
   "id": "178bfb21-e5b2-4c56-a4fd-3bba80a53198",
   "metadata": {},
   "outputs": [],
   "source": []
  }
 ],
 "metadata": {
  "kernelspec": {
   "display_name": "Python [conda env:base] *",
   "language": "python",
   "name": "conda-base-py"
  },
  "language_info": {
   "codemirror_mode": {
    "name": "ipython",
    "version": 3
   },
   "file_extension": ".py",
   "mimetype": "text/x-python",
   "name": "python",
   "nbconvert_exporter": "python",
   "pygments_lexer": "ipython3",
   "version": "3.12.7"
  }
 },
 "nbformat": 4,
 "nbformat_minor": 5
}
