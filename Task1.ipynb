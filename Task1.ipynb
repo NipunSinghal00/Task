{
 "cells": [
  {
   "cell_type": "code",
   "execution_count": 17,
   "id": "4a1c1460-053d-4841-8926-c375ec46d56b",
   "metadata": {},
   "outputs": [
    {
     "name": "stdin",
     "output_type": "stream",
     "text": [
      "enter the first number: 20\n",
      "enter the second number: 30\n"
     ]
    },
    {
     "name": "stdout",
     "output_type": "stream",
     "text": [
      "Addition :  50 \n",
      " Subraction : -10 \n",
      " Multiplication :  600 \n",
      " Division :  0.6666666666666666\n"
     ]
    }
   ],
   "source": [
    "input1=int(input(\"enter the first number:\"))\n",
    "input2=int(input(\"enter the second number:\"))\n",
    "print(\"Addition : \" , input1 + input2 ,\"\\n\", \"Subraction :\",  input1-input2,\"\\n\",\"Multiplication : \",input1 * input2 ,\"\\n\",\"Division : \",input1 / input2)"
   ]
  },
  {
   "cell_type": "code",
   "execution_count": null,
   "id": "ace4d48d-54b2-4860-9771-ecabbc4617ae",
   "metadata": {},
   "outputs": [],
   "source": []
  }
 ],
 "metadata": {
  "kernelspec": {
   "display_name": "Python [conda env:base] *",
   "language": "python",
   "name": "conda-base-py"
  },
  "language_info": {
   "codemirror_mode": {
    "name": "ipython",
    "version": 3
   },
   "file_extension": ".py",
   "mimetype": "text/x-python",
   "name": "python",
   "nbconvert_exporter": "python",
   "pygments_lexer": "ipython3",
   "version": "3.12.7"
  }
 },
 "nbformat": 4,
 "nbformat_minor": 5
}
